{
  "nbformat": 4,
  "nbformat_minor": 0,
  "metadata": {
    "colab": {
      "provenance": [],
      "authorship_tag": "ABX9TyOlOmPC8ziYXoK5tkKPC/wJ",
      "include_colab_link": true
    },
    "kernelspec": {
      "name": "python3",
      "display_name": "Python 3"
    },
    "language_info": {
      "name": "python"
    }
  },
  "cells": [
    {
      "cell_type": "markdown",
      "metadata": {
        "id": "view-in-github",
        "colab_type": "text"
      },
      "source": [
        "<a href=\"https://colab.research.google.com/github/YuvinNavod/Python-Machine-Learning-Projects/blob/main/18_Movie_Recommendation_System.ipynb\" target=\"_parent\"><img src=\"https://colab.research.google.com/assets/colab-badge.svg\" alt=\"Open In Colab\"/></a>"
      ]
    },
    {
      "cell_type": "markdown",
      "source": [
        "# 18. Movie Recommendation System"
      ],
      "metadata": {
        "id": "MgChfbl_05FQ"
      }
    },
    {
      "cell_type": "markdown",
      "source": [
        "dataset =https://drive.google.com/file/d/1kNrwRjgG_dROOR8S7QVnesIUMQIz2pem/view?usp=drive_link"
      ],
      "metadata": {
        "id": "o3sFnn3Q1jpG"
      }
    },
    {
      "cell_type": "code",
      "execution_count": null,
      "metadata": {
        "id": "MenWC8C-03DX"
      },
      "outputs": [],
      "source": []
    }
  ]
}