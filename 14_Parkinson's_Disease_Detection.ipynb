{
  "nbformat": 4,
  "nbformat_minor": 0,
  "metadata": {
    "colab": {
      "provenance": [],
      "authorship_tag": "ABX9TyO79Kqh7s2eB7gg7uI5S+7L",
      "include_colab_link": true
    },
    "kernelspec": {
      "name": "python3",
      "display_name": "Python 3"
    },
    "language_info": {
      "name": "python"
    }
  },
  "cells": [
    {
      "cell_type": "markdown",
      "metadata": {
        "id": "view-in-github",
        "colab_type": "text"
      },
      "source": [
        "<a href=\"https://colab.research.google.com/github/YuvinNavod/Python-Machine-Learning-Projects/blob/main/14_Parkinson's_Disease_Detection.ipynb\" target=\"_parent\"><img src=\"https://colab.research.google.com/assets/colab-badge.svg\" alt=\"Open In Colab\"/></a>"
      ]
    },
    {
      "cell_type": "markdown",
      "source": [
        "# 14. Parkinson's Disease Detection\n",
        "\n"
      ],
      "metadata": {
        "id": "o-3H6oq2BNuQ"
      }
    },
    {
      "cell_type": "markdown",
      "source": [
        "inport dependencies"
      ],
      "metadata": {
        "id": "-MxcWRqrx5H0"
      }
    },
    {
      "cell_type": "code",
      "source": [],
      "metadata": {
        "id": "FnCEGaQxx4ZN"
      },
      "execution_count": null,
      "outputs": []
    },
    {
      "cell_type": "code",
      "execution_count": null,
      "metadata": {
        "id": "G4eG9Z88AY36"
      },
      "outputs": [],
      "source": []
    }
  ]
}